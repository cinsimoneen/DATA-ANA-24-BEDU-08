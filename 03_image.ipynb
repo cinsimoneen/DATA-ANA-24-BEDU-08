{
 "cells": [
  {
   "cell_type": "code",
   "execution_count": 2,
   "id": "6b7de0ab-e413-491b-a1cd-1a159c642c04",
   "metadata": {},
   "outputs": [],
   "source": [
    "import cv2\n",
    "FILENAME = 'tmp/edificios.jpeg'\n",
    "\n",
    "# Cargar de imagen\n",
    "image = cv2.imread(FILENAME)\n",
    "\n",
    "# Mostrar imagen original\n",
    "cv2.imshow('Imagen original', image)\n",
    "\n",
    "# Crear una nueva imagen temporal en escala de grises\n",
    "img_gray_scale = cv2.cvtColor(image, cv2.COLOR_BGR2GRAY)\n",
    "\n",
    "# Mostrar nueva imagen en escala de grises\n",
    "cv2.imshow('Imagen en escala de grises', img_gray_scale)\n",
    "\n",
    "# DEstruir ventanas abiertas\n",
    "cv2.waitKey(0)\n",
    "cv2.destroyAllWindows()"
   ]
  },
  {
   "cell_type": "code",
   "execution_count": null,
   "id": "51c2b504-b2c5-4b15-93a8-b7bc59c91668",
   "metadata": {},
   "outputs": [],
   "source": []
  }
 ],
 "metadata": {
  "kernelspec": {
   "display_name": "Python 3 (ipykernel)",
   "language": "python",
   "name": "python3"
  },
  "language_info": {
   "codemirror_mode": {
    "name": "ipython",
    "version": 3
   },
   "file_extension": ".py",
   "mimetype": "text/x-python",
   "name": "python",
   "nbconvert_exporter": "python",
   "pygments_lexer": "ipython3",
   "version": "3.12.5"
  }
 },
 "nbformat": 4,
 "nbformat_minor": 5
}
