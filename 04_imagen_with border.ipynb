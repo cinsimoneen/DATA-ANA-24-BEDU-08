{
 "cells": [
  {
   "cell_type": "code",
   "execution_count": null,
   "id": "3bcef401-3181-4682-a0ba-61370f694635",
   "metadata": {},
   "outputs": [],
   "source": [
    "import cv2\n",
    "\n",
    "FILENAME = 'tmp/edificios.jpeg'\n",
    "\n",
    "# Cargar de imagen\n",
    "image = cv2.imread(FILENAME)\n",
    "\n",
    "# Mostrar imagen original\n",
    "cv2.imshow('Imagen original', image)\n",
    "\n",
    "# aplicar detector de bordes\n",
    "image_with_borders = cv2.Canny(image, 100, 200)\n",
    "cv2.imshow('Imagen with borders', image_with_borders)\n",
    "\n",
    "# DEstruir ventanas abiertas\n",
    "cv2.waitKey(0)\n",
    "cv2.destroyAllWindows()"
   ]
  },
  {
   "cell_type": "code",
   "execution_count": null,
   "id": "1523605a-6ec5-4495-8c98-2ddad3b530f7",
   "metadata": {},
   "outputs": [],
   "source": []
  }
 ],
 "metadata": {
  "kernelspec": {
   "display_name": "Python 3 (ipykernel)",
   "language": "python",
   "name": "python3"
  },
  "language_info": {
   "codemirror_mode": {
    "name": "ipython",
    "version": 3
   },
   "file_extension": ".py",
   "mimetype": "text/x-python",
   "name": "python",
   "nbconvert_exporter": "python",
   "pygments_lexer": "ipython3",
   "version": "3.12.5"
  }
 },
 "nbformat": 4,
 "nbformat_minor": 5
}
